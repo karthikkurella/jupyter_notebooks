{
 "cells": [
  {
   "cell_type": "code",
   "execution_count": 4,
   "metadata": {},
   "outputs": [],
   "source": [
    "%matplotlib inline\n",
    "import numpy as np\n",
    "import pandas as pd\n",
    "import matplotlib.pyplot as plt\n"
   ]
  },
  {
   "cell_type": "code",
   "execution_count": 5,
   "metadata": {},
   "outputs": [
    {
     "name": "stdout",
     "output_type": "stream",
     "text": [
      "(47, 3)\n"
     ]
    },
    {
     "data": {
      "text/html": [
       "<div>\n",
       "<style scoped>\n",
       "    .dataframe tbody tr th:only-of-type {\n",
       "        vertical-align: middle;\n",
       "    }\n",
       "\n",
       "    .dataframe tbody tr th {\n",
       "        vertical-align: top;\n",
       "    }\n",
       "\n",
       "    .dataframe thead th {\n",
       "        text-align: right;\n",
       "    }\n",
       "</style>\n",
       "<table border=\"1\" class=\"dataframe\">\n",
       "  <thead>\n",
       "    <tr style=\"text-align: right;\">\n",
       "      <th></th>\n",
       "      <th>housesize</th>\n",
       "      <th>bedrooms</th>\n",
       "      <th>price</th>\n",
       "    </tr>\n",
       "  </thead>\n",
       "  <tbody>\n",
       "    <tr>\n",
       "      <th>0</th>\n",
       "      <td>2104</td>\n",
       "      <td>3</td>\n",
       "      <td>399900</td>\n",
       "    </tr>\n",
       "    <tr>\n",
       "      <th>1</th>\n",
       "      <td>1600</td>\n",
       "      <td>3</td>\n",
       "      <td>329900</td>\n",
       "    </tr>\n",
       "    <tr>\n",
       "      <th>2</th>\n",
       "      <td>2400</td>\n",
       "      <td>3</td>\n",
       "      <td>369000</td>\n",
       "    </tr>\n",
       "    <tr>\n",
       "      <th>3</th>\n",
       "      <td>1416</td>\n",
       "      <td>2</td>\n",
       "      <td>232000</td>\n",
       "    </tr>\n",
       "    <tr>\n",
       "      <th>4</th>\n",
       "      <td>3000</td>\n",
       "      <td>4</td>\n",
       "      <td>539900</td>\n",
       "    </tr>\n",
       "  </tbody>\n",
       "</table>\n",
       "</div>"
      ],
      "text/plain": [
       "   housesize  bedrooms   price\n",
       "0       2104         3  399900\n",
       "1       1600         3  329900\n",
       "2       2400         3  369000\n",
       "3       1416         2  232000\n",
       "4       3000         4  539900"
      ]
     },
     "execution_count": 5,
     "metadata": {},
     "output_type": "execute_result"
    }
   ],
   "source": [
    "#reading data\n",
    "path='C:\\\\Users\\\\student\\\\Downloads\\\\ex1data2.txt'\n",
    "data = pd.read_csv(path, header=None, names=['housesize', 'bedrooms','price'])\n",
    "print(data.shape)   #no of rows and column\n",
    "data.head()   # display top 5 record"
   ]
  },
  {
   "cell_type": "code",
   "execution_count": 36,
   "metadata": {},
   "outputs": [
    {
     "name": "stdout",
     "output_type": "stream",
     "text": [
      "(47, 1)\n",
      "(47,)\n"
     ]
    }
   ],
   "source": [
    "a=data['housesize'].values\n",
    "b=data['bedrooms'].values\n",
    "X=pd.DataFrame(a,b)\n",
    "Y=data['price'].values\n",
    "print(X.shape)\n",
    "print(Y.shape)\n",
    "\n",
    "n=len(X)\n",
    "m=len(Y)"
   ]
  },
  {
   "cell_type": "code",
   "execution_count": 18,
   "metadata": {},
   "outputs": [
    {
     "name": "stdout",
     "output_type": "stream",
     "text": [
      "(47, 2)\n",
      "(47,)\n",
      "    housesize  bedrooms\n",
      "0        2104         3\n",
      "1        1600         3\n",
      "2        2400         3\n",
      "3        1416         2\n",
      "4        3000         4\n",
      "5        1985         4\n",
      "6        1534         3\n",
      "7        1427         3\n",
      "8        1380         3\n",
      "9        1494         3\n",
      "10       1940         4\n",
      "11       2000         3\n",
      "12       1890         3\n",
      "13       4478         5\n",
      "14       1268         3\n",
      "15       2300         4\n",
      "16       1320         2\n",
      "17       1236         3\n",
      "18       2609         4\n",
      "19       3031         4\n",
      "20       1767         3\n",
      "21       1888         2\n",
      "22       1604         3\n",
      "23       1962         4\n",
      "24       3890         3\n",
      "25       1100         3\n",
      "26       1458         3\n",
      "27       2526         3\n",
      "28       2200         3\n",
      "29       2637         3\n",
      "30       1839         2\n",
      "31       1000         1\n",
      "32       2040         4\n",
      "33       3137         3\n",
      "34       1811         4\n",
      "35       1437         3\n",
      "36       1239         3\n",
      "37       2132         4\n",
      "38       4215         4\n",
      "39       2162         4\n",
      "40       1664         2\n",
      "41       2238         3\n",
      "42       2567         4\n",
      "43       1200         3\n",
      "44        852         2\n",
      "45       1852         4\n",
      "46       1203         3\n"
     ]
    }
   ],
   "source": [
    "\n",
    "X=data.iloc[:,0:2]\n",
    "Y=data['price'].values\n",
    "print(X.shape)\n",
    "print(Y.shape)\n",
    "print(X)\n",
    "n=len(X)\n",
    "m=len(Y)"
   ]
  },
  {
   "cell_type": "code",
   "execution_count": 14,
   "metadata": {},
   "outputs": [
    {
     "data": {
      "text/plain": [
       "Text(0, 0.5, 'Profit')"
      ]
     },
     "execution_count": 14,
     "metadata": {},
     "output_type": "execute_result"
    },
    {
     "data": {
      "image/png": "[encoded data removed]",
      "text/plain": [
       "<Figure size 432x288 with 1 Axes>"
      ]
     },
     "metadata": {
      "needs_background": "light"
     },
     "output_type": "display_data"
    }
   ],
   "source": [
    "import matplotlib.pyplot as plt    # from matplotlib import pyplot as plt\n",
    "\n",
    "plt.plot(X,Y,ls='',marker='*',color='r')  \n",
    "\n",
    "plt.xlabel(\"housesize\" \"bedrooms\")\n",
    "plt.ylabel(\"Profit\")\n"
   ]
  },
  {
   "cell_type": "code",
   "execution_count": 12,
   "metadata": {},
   "outputs": [],
   "source": [
    "#mean of X and Y\n",
    "mean_x = np.mean(X)\n",
    "mean_y = np.mean(Y)\n",
    "\n",
    "#Total number of values\n",
    "n=len(X)"
   ]
  },
  {
   "cell_type": "code",
   "execution_count": 13,
   "metadata": {},
   "outputs": [
    {
     "name": "stdout",
     "output_type": "stream",
     "text": [
      "1.193033644189594 -3.8957808783118537\n"
     ]
    }
   ],
   "source": [
    "#using the formula to calculate b1 and b2\n",
    "numer =0\n",
    "denom = 0\n",
    "\n",
    "numer = sum((X - mean_x)*(Y - mean_y))\n",
    "denom = sum( (X - mean_x)**2)\n",
    "b1 = numer/denom\n",
    "b0 = mean_y -(b1 * mean_x)\n",
    "\n",
    "#print coeff\n",
    "print(b1,b0)"
   ]
  },
  {
   "cell_type": "code",
   "execution_count": 14,
   "metadata": {},
   "outputs": [],
   "source": [
    "#ploting values and regression line\n",
    "max_x = np.max(X)\n",
    "min_x = np.min(X)"
   ]
  },
  {
   "cell_type": "code",
   "execution_count": 15,
   "metadata": {},
   "outputs": [
    {
     "data": {
      "image/png": "[encoded data removed]",
      "text/plain": [
       "<Figure size 432x288 with 1 Axes>"
      ]
     },
     "metadata": {
      "needs_background": "light"
     },
     "output_type": "display_data"
    },
    {
     "name": "stdout",
     "output_type": "stream",
     "text": [
      "1.193033644189594 -3.8957808783118537\n"
     ]
    }
   ],
   "source": [
    "#calculating line values x and y\n",
    "x=np.linspace(min_x, max_x,1000)\n",
    "y=b0+b1*x\n",
    "\n",
    "#ploting line\n",
    "plt.plot(x,y, color='r', label='Regression line')\n",
    "\n",
    "#plotting scatter points\n",
    "\n",
    "plt.scatter(X,Y, c='b', label='Scatter plot')\n",
    "plt.xlabel('Population')\n",
    "plt.ylabel('Profit')\n",
    "plt.legend()\n",
    "plt.show()\n",
    "#print coeff\n",
    "print(b1,b0)"
   ]
  },
  {
   "cell_type": "code",
   "execution_count": 16,
   "metadata": {},
   "outputs": [
    {
     "name": "stdout",
     "output_type": "stream",
     "text": [
      "2.9923139460876023\n"
     ]
    }
   ],
   "source": [
    "# Calculating Root Mean Squares Error\n",
    "rmse = 0\n",
    "for i in range(len(X)):\n",
    "    y_pred = b0 + b1 * X[i]\n",
    "    rmse += (Y[i] - y_pred) ** 2\n",
    "rmse = np.sqrt(rmse/n)\n",
    "print(rmse)"
   ]
  },
  {
   "cell_type": "code",
   "execution_count": 17,
   "metadata": {},
   "outputs": [
    {
     "name": "stdout",
     "output_type": "stream",
     "text": [
      "0.7020315537841397\n"
     ]
    }
   ],
   "source": [
    "# Calculating R-Squared Error\n",
    "ss_t = 0\n",
    "ss_r = 0\n",
    "for i in range(len(X)):\n",
    "    y_pred = b0 + b1 * X[i]\n",
    "    ss_t += (Y[i] - mean_y) ** 2\n",
    "    ss_r += (Y[i] - y_pred) ** 2\n",
    "r2 = 1 - (ss_r/ss_t)\n",
    "print(r2)"
   ]
  },
  {
   "cell_type": "markdown",
   "metadata": {},
   "source": [
    "Scikit-learn is a powerful Python module for machine learning. It contains function for regression, classification, clustering, model selection and dimensionality reduction. "
   ]
  },
  {
   "cell_type": "code",
   "execution_count": 11,
   "metadata": {},
   "outputs": [],
   "source": [
    "#Linear Regression using Scikit learn \n",
    "from sklearn.linear_model import LinearRegression\n",
    "from sklearn.metrics import mean_squared_error\n"
   ]
  },
  {
   "cell_type": "code",
   "execution_count": 19,
   "metadata": {},
   "outputs": [
    {
     "name": "stdout",
     "output_type": "stream",
     "text": [
      "63926.2082498693\n",
      "0.7329450180289141\n"
     ]
    }
   ],
   "source": [
    "\n",
    "\n",
    "Y=Y.reshape(m,1)\n",
    "\n",
    "#creating model\n",
    "reg =LinearRegression()\n",
    "\n",
    "#fitting training data\n",
    "\n",
    "reg = reg.fit(X,Y)\n",
    "\n",
    "# Y prediction\n",
    "y_pred = reg.predict(X)\n",
    "\n",
    "\n",
    "#calculating MSE\n",
    "mse = mean_squared_error(Y,y_pred)\n",
    "r2_score = reg.score(X, Y)\n",
    "\n",
    "\n",
    "print(np.sqrt(mse))\n",
    "print(r2_score)"
   ]
  },
  {
   "cell_type": "code",
   "execution_count": null,
   "metadata": {},
   "outputs": [],
   "source": []
  },
  {
   "cell_type": "code",
   "execution_count": null,
   "metadata": {},
   "outputs": [],
   "source": []
  }
 ],
 "metadata": {
  "kernelspec": {
   "display_name": "Python 3",
   "language": "python",
   "name": "python3"
  }
 },
 "nbformat": 4,
 "nbformat_minor": 1
}
